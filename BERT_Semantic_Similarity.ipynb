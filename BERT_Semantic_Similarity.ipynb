{
 "cells": [
  {
   "cell_type": "markdown",
   "metadata": {},
   "source": [
    "# Semantic Similarity with BERT"
   ]
  },
  {
   "cell_type": "markdown",
   "metadata": {},
   "source": [
    "# Cargar un BERT preentrenado"
   ]
  },
  {
   "cell_type": "code",
   "execution_count": 8,
   "metadata": {},
   "outputs": [],
   "source": [
    "from sentence_transformers import SentenceTransformer, util\n",
    "import torch\n",
    "\n",
    "# Cargar el modelo preentrenado (puedes probar con 'all-mpnet-base-v2' o 'paraphrase-MiniLM-L6-v2')\n",
    "model = SentenceTransformer('sentence-t5-large')"
   ]
  },
  {
   "cell_type": "markdown",
   "metadata": {},
   "source": [
    "# Creamos frases"
   ]
  },
  {
   "cell_type": "code",
   "execution_count": 18,
   "metadata": {},
   "outputs": [],
   "source": [
    "sentence1 = 'I love reading science fiction books at night.'\n",
    "sentence2 = 'I really enjoy futuristic and fantasy novels.'\n",
    "sentence3 = 'Yesterday, I took my car to the mechanic for an oil change.'"
   ]
  },
  {
   "cell_type": "markdown",
   "metadata": {},
   "source": [
    "# Convertir las frases en embeddings normalizadosdd"
   ]
  },
  {
   "cell_type": "code",
   "execution_count": 10,
   "metadata": {},
   "outputs": [],
   "source": [
    "def get_normalized_embedding(sentence):\n",
    "    embedding = model.encode(sentence, convert_to_tensor=True)\n",
    "    return torch.nn.functional.normalize(embedding, p=2, dim=0)  # Normalización L2"
   ]
  },
  {
   "cell_type": "code",
   "execution_count": 19,
   "metadata": {},
   "outputs": [],
   "source": [
    "embedding1 = get_normalized_embedding(sentence1)\n",
    "embedding2 = get_normalized_embedding(sentence2)\n",
    "embedding3 = get_normalized_embedding(sentence3)"
   ]
  },
  {
   "cell_type": "markdown",
   "metadata": {},
   "source": [
    "# Cálculo de similitud"
   ]
  },
  {
   "cell_type": "code",
   "execution_count": 20,
   "metadata": {},
   "outputs": [
    {
     "name": "stdout",
     "output_type": "stream",
     "text": [
      "Frase 1: I love reading science fiction books at night.\n",
      "Frase 2: I really enjoy futuristic and fantasy novels.\n",
      "Similitud: tensor([[0.8911]], device='mps:0')\n"
     ]
    }
   ],
   "source": [
    "similarity1 = util.pytorch_cos_sim(embedding1, embedding2)\n",
    "print(f'Frase 1: {sentence1}')\n",
    "print(f'Frase 2: {sentence2}')\n",
    "print(f'Similitud: {similarity1}')"
   ]
  },
  {
   "cell_type": "markdown",
   "metadata": {},
   "source": []
  },
  {
   "cell_type": "code",
   "execution_count": 21,
   "metadata": {},
   "outputs": [
    {
     "name": "stdout",
     "output_type": "stream",
     "text": [
      "Frase 1: I love reading science fiction books at night.\n",
      "Frase 3: Yesterday, I took my car to the mechanic for an oil change.\n",
      "Similitud: tensor([[0.6229]], device='mps:0')\n"
     ]
    }
   ],
   "source": [
    "similarity2 = util.pytorch_cos_sim(embedding1, embedding3)\n",
    "print(f'Frase 1: {sentence1}')\n",
    "print(f'Frase 3: {sentence3}')\n",
    "print(f'Similitud: {similarity2}')"
   ]
  }
 ],
 "metadata": {
  "kernelspec": {
   "display_name": "venvKerasExamples",
   "language": "python",
   "name": "python3"
  },
  "language_info": {
   "codemirror_mode": {
    "name": "ipython",
    "version": 3
   },
   "file_extension": ".py",
   "mimetype": "text/x-python",
   "name": "python",
   "nbconvert_exporter": "python",
   "pygments_lexer": "ipython3",
   "version": "3.12.2"
  }
 },
 "nbformat": 4,
 "nbformat_minor": 2
}
